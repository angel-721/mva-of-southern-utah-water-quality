{
 "cells": [
  {
   "cell_type": "code",
   "execution_count": 48,
   "id": "4922af1e-7075-49bb-a995-750db315629e",
   "metadata": {},
   "outputs": [],
   "source": [
    "import pandas as pd\n",
    "import numpy as np\n",
    "from sklearn.decomposition import PCA\n",
    "from sklearn.preprocessing import StandardScaler\n",
    "import pickle\n",
    "import matplotlib.pyplot as plt"
   ]
  },
  {
   "cell_type": "code",
   "execution_count": 49,
   "id": "b89e6f38-7943-4b64-92b6-88c058da97af",
   "metadata": {},
   "outputs": [
    {
     "name": "stdout",
     "output_type": "stream",
     "text": [
      "['Temp (air) (F)', 'Temp (water) (C)', 'Salinity (ppt)', 'pH', 'DO (mg/L)', 'DO (%)', 'Turbidty (NTU)', 'Flow rate (m/s)', 'Discharge (m^3/s)', 'Nitrate (mg/L)', 'Ammonium (mg/L)', 'Phosphate (mg/L)', 'BOD (mg/L)', 'TSS (mg/L)', 'WQI']\n"
     ]
    }
   ],
   "source": [
    "# load cleaned data from analyze_quality-sites.ipynb\n",
    "water_site_1 = pickle.load(open(\"water_quality_df_1.pkl\", 'rb'))\n",
    "water_site_2 = pickle.load(open(\"water_quality_df_2.pkl\", 'rb'))\n",
    "water_site_3 = pickle.load(open(\"water_quality_df_3.pkl\", 'rb'))\n",
    "water_site_4 = pickle.load(open(\"water_quality_df_4.pkl\", 'rb'))\n",
    "\n",
    "cols = list(water_site_1.columns)\n",
    "print(cols)\n",
    "\n",
    "#For now, remove WQI\n",
    "water_site_1 = water_site_1.drop(\"WQI\", axis=1)\n",
    "water_site_2 = water_site_2.drop(\"WQI\", axis=1)\n",
    "water_site_3 = water_site_3.drop(\"WQI\", axis=1)\n",
    "water_site_4 = water_site_4.drop(\"WQI\", axis=1)\n"
   ]
  },
  {
   "cell_type": "code",
   "execution_count": 50,
   "id": "7bc6b7bf-ed6a-49b1-b1b6-4378ca160836",
   "metadata": {},
   "outputs": [],
   "source": [
    "def perform_pca(data, threshold=0.9, top_columns=3):\n",
    "    feature_names = data.columns\n",
    "    \n",
    "    # Step 1: Scale the variables to have zero mean\n",
    "    x1 = StandardScaler().fit_transform(data)\n",
    "    \n",
    "    # Initialize PCA with the input feature names\n",
    "    pca = PCA(n_components=None)\n",
    "    pca.fit(x1)\n",
    "    \n",
    "    # Get the principal components\n",
    "    principal_components = pca.transform(x1)\n",
    "    \n",
    "    # Create a DataFrame with the principal components and their names\n",
    "    PCDF = pd.DataFrame(data=principal_components, columns=[f'PC{i+1}' for i in range(principal_components.shape[1])])\n",
    "    \n",
    "    # Get the explained variance ratio for each principal component\n",
    "    explained_variance_ratio = pca.explained_variance_ratio_\n",
    "    \n",
    "    # Determine the key principal components based on a threshold\n",
    "    cumulative_variance_ratio = np.cumsum(explained_variance_ratio)\n",
    "    key_components = np.where(cumulative_variance_ratio >= threshold)[0] + 1\n",
    "    \n",
    "    # Get the component loadings (eigenvectors) for the key principal components\n",
    "    key_component_loadings = pca.components_[key_components - 1]\n",
    "    \n",
    "    # Create a dictionary to store the connection between key principal components and original column names\n",
    "    key_component_column_mapping = {}\n",
    "    \n",
    "    for i, component in enumerate(key_components):\n",
    "        pc_name = f'PC{component}'\n",
    "        loadings = key_component_loadings[i]\n",
    "        top_cols = feature_names[np.argsort(-np.abs(loadings))][:top_columns]\n",
    "        key_component_column_mapping[pc_name] = top_cols\n",
    "    \n",
    "    return PCDF, key_component_column_mapping, pca\n",
    "\n",
    "ws1_pcdf, ws_1_key_components_map, ws1_pca= perform_pca(water_site_1)\n",
    "ws2_pcdf, ws_2_key_components_map, ws2_pca= perform_pca(water_site_2)\n",
    "ws3_pcdf, ws_3_key_components_map, ws3_pca= perform_pca(water_site_3)\n",
    "ws4_pcdf, ws_4_key_components_map, ws4_pca= perform_pca(water_site_4)"
   ]
  },
  {
   "cell_type": "code",
   "execution_count": 52,
   "id": "e17cbd51-6e6b-4b86-ac13-3ee2e5c75bae",
   "metadata": {},
   "outputs": [
    {
     "data": {
      "text/plain": [
       "{'PC8': Index(['Phosphate (mg/L)', 'pH', 'Nitrate (mg/L)'], dtype='object', name=7),\n",
       " 'PC9': Index(['Phosphate (mg/L)', 'Turbidty (NTU)', 'TSS (mg/L)'], dtype='object', name=7),\n",
       " 'PC10': Index(['Turbidty (NTU)', 'Ammonium (mg/L)', 'TSS (mg/L)'], dtype='object', name=7),\n",
       " 'PC11': Index(['Flow rate (m/s)', 'Temp (air) (F)', 'TSS (mg/L)'], dtype='object', name=7),\n",
       " 'PC12': Index(['Salinity (ppt)', 'TSS (mg/L)', 'Ammonium (mg/L)'], dtype='object', name=7),\n",
       " 'PC13': Index(['Temp (air) (F)', 'Flow rate (m/s)', 'Turbidty (NTU)'], dtype='object', name=7),\n",
       " 'PC14': Index(['Temp (water) (C)', 'DO (%)', 'DO (mg/L)'], dtype='object', name=7)}"
      ]
     },
     "execution_count": 52,
     "metadata": {},
     "output_type": "execute_result"
    }
   ],
   "source": [
    "def get_loadings(pca, water_site):\n",
    "    PCloadings = pca.components_.T * np.sqrt(pca.explained_variance_)\n",
    "    components=water_site.columns.tolist()\n",
    "    loadingdf=pd.DataFrame(PCloadings,columns=pca.get_feature_names_out())\n",
    "    loadingdf[\"variable\"]=components\n",
    "    return loadingdf\n",
    "\n",
    "ws1_loadings = get_loadings(ws1_pca, water_site_1)\n",
    "ws_1_key_components_map"
   ]
  },
  {
   "cell_type": "code",
   "execution_count": null,
   "id": "8ac7d5ef-89fb-4238-be60-5a2333d3457d",
   "metadata": {},
   "outputs": [],
   "source": []
  }
 ],
 "metadata": {
  "kernelspec": {
   "display_name": "Python 3 (ipykernel)",
   "language": "python",
   "name": "python3"
  },
  "language_info": {
   "codemirror_mode": {
    "name": "ipython",
    "version": 3
   },
   "file_extension": ".py",
   "mimetype": "text/x-python",
   "name": "python",
   "nbconvert_exporter": "python",
   "pygments_lexer": "ipython3",
   "version": "3.10.12"
  }
 },
 "nbformat": 4,
 "nbformat_minor": 5
}
