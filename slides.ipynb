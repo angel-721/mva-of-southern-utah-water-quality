{
 "cells": [
  {
   "cell_type": "code",
   "execution_count": 100,
   "id": "d9840c1d-b2ea-4456-86bd-2ae28502aa58",
   "metadata": {},
   "outputs": [],
   "source": [
    "### Note book for making example figures for slides"
   ]
  },
  {
   "cell_type": "code",
   "execution_count": 103,
   "id": "be83c1ba-bed3-4051-ab3a-59b3f60e2d5e",
   "metadata": {},
   "outputs": [],
   "source": [
    "### Showcase 0 mean\n",
    "import numpy as np\n",
    "import pandas as pd\n",
    "import matplotlib.pyplot as plt\n",
    "import seaborn as sns\n",
    "from sklearn import preprocessing"
   ]
  },
  {
   "cell_type": "code",
   "execution_count": 105,
   "id": "73396887-9e1c-43d3-81bb-5576d658e27a",
   "metadata": {},
   "outputs": [],
   "source": [
    "#random data\n",
    "\n",
    "x = np.random.rand(50)\n",
    "y = np.random.rand(50)\n",
    "\n",
    "data = {'x': x, 'y': y}\n",
    "df = pd.DataFrame(data)\n"
   ]
  },
  {
   "cell_type": "code",
   "execution_count": 106,
   "id": "6ff4b15f-4ba1-4f67-a746-06bfe8927ead",
   "metadata": {},
   "outputs": [
    {
     "name": "stdout",
     "output_type": "stream",
     "text": [
      "           x         y\n",
      "0   0.986262 -1.134794\n",
      "1   1.114916 -1.268374\n",
      "2   0.473843  1.544963\n",
      "3   1.789865 -0.516498\n",
      "4  -0.590765  0.896344\n",
      "5   0.960305 -0.136226\n",
      "6   0.538692  0.893662\n",
      "7  -0.434720 -1.140713\n",
      "8  -0.669794  1.417722\n",
      "9   1.505346  0.139915\n",
      "10  0.088602  1.234006\n",
      "11  0.164472  0.031974\n",
      "12  1.049232 -1.519473\n",
      "13 -0.056437  1.401829\n",
      "14  0.519416  1.485759\n",
      "15  0.621261 -0.555460\n",
      "16 -1.250597  0.959116\n",
      "17 -1.635935  0.803492\n",
      "18 -0.874181 -1.395424\n",
      "19  1.798651 -1.673645\n",
      "20 -1.485979  0.744022\n",
      "21  1.024701  0.218908\n",
      "22 -0.695065 -0.975688\n",
      "23  0.965177  0.328238\n",
      "24  0.074714  1.022689\n",
      "25  0.570759 -0.742355\n",
      "26 -1.617593 -0.469479\n",
      "27 -0.699698  0.238588\n",
      "28 -0.592085 -0.198614\n",
      "29  0.807149 -1.293720\n",
      "30 -1.211907  1.000955\n",
      "31 -1.218952 -1.464150\n",
      "32 -0.779870 -1.617728\n",
      "33  0.680995  0.185787\n",
      "34 -1.019210 -0.188276\n",
      "35 -1.094626 -1.389576\n",
      "36 -1.181295  1.380258\n",
      "37 -1.225909 -1.559643\n",
      "38 -1.432156 -1.264838\n",
      "39  0.808688 -0.024523\n",
      "40 -0.930141  0.193902\n",
      "41  1.191173  1.281255\n",
      "42  0.748839  1.526149\n",
      "43  0.096088  0.562217\n",
      "44 -1.116010  0.634614\n",
      "45  0.558526  0.357268\n",
      "46  0.105004 -0.462728\n",
      "47  1.713550  0.874533\n",
      "48  1.187198 -0.282729\n",
      "49 -0.330496 -0.083511\n"
     ]
    }
   ],
   "source": [
    "## Standarize the data\n",
    "\n",
    "\n",
    "scaler = preprocessing.StandardScaler().fit_transform(df.values)\n",
    "scaled_df = pd.DataFrame(scaler, index=df.index, columns=df.columns)\n",
    "print(scaled_df)"
   ]
  },
  {
   "cell_type": "code",
   "execution_count": 111,
   "id": "80e10ba7-75ba-4221-9d7c-849a30390743",
   "metadata": {},
   "outputs": [
    {
     "data": {
      "image/png": "[encoded data removed]",
      "text/plain": [
       "<Figure size 720x360 with 2 Axes>"
      ]
     },
     "metadata": {
      "needs_background": "light"
     },
     "output_type": "display_data"
    },
    {
     "name": "stdout",
     "output_type": "stream",
     "text": [
      "Original Data Mean:  0.47\n",
      "Scaled Data Mean:  -0.0\n"
     ]
    }
   ],
   "source": [
    "# Plot the original data\n",
    "plt.figure(figsize=(10, 5))\n",
    "plt.subplot(1, 2, 1)\n",
    "sns.scatterplot(x=df['x'], y=df['y'])\n",
    "plt.title('Original Data')\n",
    "plt.xlabel('x')\n",
    "plt.ylabel('y')\n",
    "\n",
    "\n",
    "# Plot the scaled data\n",
    "plt.subplot(1, 2, 2)\n",
    "sns.scatterplot(x=scaled_df['x'], y=scaled_df['y'])\n",
    "plt.title('Scaled Data')\n",
    "plt.xlabel('x')\n",
    "plt.ylabel('y')\n",
    "\n",
    "plt.tight_layout()\n",
    "plt.show()\n",
    "\n",
    "print(\"Original Data Mean: \", round(df['x'].mean(),2))\n",
    "print(\"Scaled Data Mean: \", round(scaled_df['x'].mean(),2))"
   ]
  },
  {
   "cell_type": "code",
   "execution_count": null,
   "id": "36fa4014-6d3f-42f6-82c7-b397649a4589",
   "metadata": {},
   "outputs": [],
   "source": []
  }
 ],
 "metadata": {
  "kernelspec": {
   "display_name": "Python 3 (ipykernel)",
   "language": "python",
   "name": "python3"
  },
  "language_info": {
   "codemirror_mode": {
    "name": "ipython",
    "version": 3
   },
   "file_extension": ".py",
   "mimetype": "text/x-python",
   "name": "python",
   "nbconvert_exporter": "python",
   "pygments_lexer": "ipython3",
   "version": "3.10.12"
  }
 },
 "nbformat": 4,
 "nbformat_minor": 5
}
